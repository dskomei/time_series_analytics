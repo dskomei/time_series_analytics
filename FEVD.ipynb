{
 "cells": [
  {
   "cell_type": "markdown",
   "metadata": {},
   "source": [
    "# FEVD"
   ]
  },
  {
   "cell_type": "code",
   "execution_count": 1,
   "metadata": {},
   "outputs": [],
   "source": [
    "import pandas as pd\n",
    "import statsmodels.api as sm\n",
    "from statsmodels.tsa.api import VAR"
   ]
  },
  {
   "cell_type": "markdown",
   "metadata": {},
   "source": [
    "## データの取得"
   ]
  },
  {
   "cell_type": "code",
   "execution_count": 2,
   "metadata": {},
   "outputs": [],
   "source": [
    "macro_data = sm.datasets.macrodata.load_pandas().data"
   ]
  },
  {
   "cell_type": "code",
   "execution_count": 3,
   "metadata": {},
   "outputs": [
    {
     "data": {
      "text/html": [
       "<div>\n",
       "<style scoped>\n",
       "    .dataframe tbody tr th:only-of-type {\n",
       "        vertical-align: middle;\n",
       "    }\n",
       "\n",
       "    .dataframe tbody tr th {\n",
       "        vertical-align: top;\n",
       "    }\n",
       "\n",
       "    .dataframe thead th {\n",
       "        text-align: right;\n",
       "    }\n",
       "</style>\n",
       "<table border=\"1\" class=\"dataframe\">\n",
       "  <thead>\n",
       "    <tr style=\"text-align: right;\">\n",
       "      <th></th>\n",
       "      <th>year</th>\n",
       "      <th>quarter</th>\n",
       "      <th>realgdp</th>\n",
       "      <th>realcons</th>\n",
       "      <th>realinv</th>\n",
       "      <th>realgovt</th>\n",
       "      <th>realdpi</th>\n",
       "      <th>cpi</th>\n",
       "      <th>m1</th>\n",
       "      <th>tbilrate</th>\n",
       "      <th>unemp</th>\n",
       "      <th>pop</th>\n",
       "      <th>infl</th>\n",
       "      <th>realint</th>\n",
       "    </tr>\n",
       "  </thead>\n",
       "  <tbody>\n",
       "    <tr>\n",
       "      <th>0</th>\n",
       "      <td>1959.0</td>\n",
       "      <td>1.0</td>\n",
       "      <td>2710.349</td>\n",
       "      <td>1707.4</td>\n",
       "      <td>286.898</td>\n",
       "      <td>470.045</td>\n",
       "      <td>1886.9</td>\n",
       "      <td>28.98</td>\n",
       "      <td>139.7</td>\n",
       "      <td>2.82</td>\n",
       "      <td>5.8</td>\n",
       "      <td>177.146</td>\n",
       "      <td>0.00</td>\n",
       "      <td>0.00</td>\n",
       "    </tr>\n",
       "    <tr>\n",
       "      <th>1</th>\n",
       "      <td>1959.0</td>\n",
       "      <td>2.0</td>\n",
       "      <td>2778.801</td>\n",
       "      <td>1733.7</td>\n",
       "      <td>310.859</td>\n",
       "      <td>481.301</td>\n",
       "      <td>1919.7</td>\n",
       "      <td>29.15</td>\n",
       "      <td>141.7</td>\n",
       "      <td>3.08</td>\n",
       "      <td>5.1</td>\n",
       "      <td>177.830</td>\n",
       "      <td>2.34</td>\n",
       "      <td>0.74</td>\n",
       "    </tr>\n",
       "    <tr>\n",
       "      <th>2</th>\n",
       "      <td>1959.0</td>\n",
       "      <td>3.0</td>\n",
       "      <td>2775.488</td>\n",
       "      <td>1751.8</td>\n",
       "      <td>289.226</td>\n",
       "      <td>491.260</td>\n",
       "      <td>1916.4</td>\n",
       "      <td>29.35</td>\n",
       "      <td>140.5</td>\n",
       "      <td>3.82</td>\n",
       "      <td>5.3</td>\n",
       "      <td>178.657</td>\n",
       "      <td>2.74</td>\n",
       "      <td>1.09</td>\n",
       "    </tr>\n",
       "    <tr>\n",
       "      <th>3</th>\n",
       "      <td>1959.0</td>\n",
       "      <td>4.0</td>\n",
       "      <td>2785.204</td>\n",
       "      <td>1753.7</td>\n",
       "      <td>299.356</td>\n",
       "      <td>484.052</td>\n",
       "      <td>1931.3</td>\n",
       "      <td>29.37</td>\n",
       "      <td>140.0</td>\n",
       "      <td>4.33</td>\n",
       "      <td>5.6</td>\n",
       "      <td>179.386</td>\n",
       "      <td>0.27</td>\n",
       "      <td>4.06</td>\n",
       "    </tr>\n",
       "    <tr>\n",
       "      <th>4</th>\n",
       "      <td>1960.0</td>\n",
       "      <td>1.0</td>\n",
       "      <td>2847.699</td>\n",
       "      <td>1770.5</td>\n",
       "      <td>331.722</td>\n",
       "      <td>462.199</td>\n",
       "      <td>1955.5</td>\n",
       "      <td>29.54</td>\n",
       "      <td>139.6</td>\n",
       "      <td>3.50</td>\n",
       "      <td>5.2</td>\n",
       "      <td>180.007</td>\n",
       "      <td>2.31</td>\n",
       "      <td>1.19</td>\n",
       "    </tr>\n",
       "  </tbody>\n",
       "</table>\n",
       "</div>"
      ],
      "text/plain": [
       "     year  quarter   realgdp  realcons  realinv  realgovt  realdpi    cpi  \\\n",
       "0  1959.0      1.0  2710.349    1707.4  286.898   470.045   1886.9  28.98   \n",
       "1  1959.0      2.0  2778.801    1733.7  310.859   481.301   1919.7  29.15   \n",
       "2  1959.0      3.0  2775.488    1751.8  289.226   491.260   1916.4  29.35   \n",
       "3  1959.0      4.0  2785.204    1753.7  299.356   484.052   1931.3  29.37   \n",
       "4  1960.0      1.0  2847.699    1770.5  331.722   462.199   1955.5  29.54   \n",
       "\n",
       "      m1  tbilrate  unemp      pop  infl  realint  \n",
       "0  139.7      2.82    5.8  177.146  0.00     0.00  \n",
       "1  141.7      3.08    5.1  177.830  2.34     0.74  \n",
       "2  140.5      3.82    5.3  178.657  2.74     1.09  \n",
       "3  140.0      4.33    5.6  179.386  0.27     4.06  \n",
       "4  139.6      3.50    5.2  180.007  2.31     1.19  "
      ]
     },
     "execution_count": 3,
     "metadata": {},
     "output_type": "execute_result"
    }
   ],
   "source": [
    "macro_data.head()"
   ]
  },
  {
   "cell_type": "markdown",
   "metadata": {},
   "source": [
    "## データの確認"
   ]
  },
  {
   "cell_type": "code",
   "execution_count": 4,
   "metadata": {},
   "outputs": [],
   "source": [
    "macro_data['year'] = macro_data['year'].astype(int)\n",
    "\n",
    "macro_data.index = pd.date_range(\n",
    "    str(macro_data['year'].min()), \n",
    "    periods=len(macro_data), \n",
    "    freq='Q'\n",
    ")\n",
    "target_data = macro_data[['realgdp', 'realcons', 'realinv']]"
   ]
  },
  {
   "cell_type": "code",
   "execution_count": 9,
   "metadata": {},
   "outputs": [
    {
     "data": {
      "text/html": [
       "<div>\n",
       "<style scoped>\n",
       "    .dataframe tbody tr th:only-of-type {\n",
       "        vertical-align: middle;\n",
       "    }\n",
       "\n",
       "    .dataframe tbody tr th {\n",
       "        vertical-align: top;\n",
       "    }\n",
       "\n",
       "    .dataframe thead th {\n",
       "        text-align: right;\n",
       "    }\n",
       "</style>\n",
       "<table border=\"1\" class=\"dataframe\">\n",
       "  <thead>\n",
       "    <tr style=\"text-align: right;\">\n",
       "      <th></th>\n",
       "      <th>realgdp</th>\n",
       "      <th>realcons</th>\n",
       "      <th>realinv</th>\n",
       "    </tr>\n",
       "  </thead>\n",
       "  <tbody>\n",
       "    <tr>\n",
       "      <th>1959-03-31</th>\n",
       "      <td>2710.349</td>\n",
       "      <td>1707.4</td>\n",
       "      <td>286.898</td>\n",
       "    </tr>\n",
       "    <tr>\n",
       "      <th>1959-06-30</th>\n",
       "      <td>2778.801</td>\n",
       "      <td>1733.7</td>\n",
       "      <td>310.859</td>\n",
       "    </tr>\n",
       "    <tr>\n",
       "      <th>1959-09-30</th>\n",
       "      <td>2775.488</td>\n",
       "      <td>1751.8</td>\n",
       "      <td>289.226</td>\n",
       "    </tr>\n",
       "    <tr>\n",
       "      <th>1959-12-31</th>\n",
       "      <td>2785.204</td>\n",
       "      <td>1753.7</td>\n",
       "      <td>299.356</td>\n",
       "    </tr>\n",
       "    <tr>\n",
       "      <th>1960-03-31</th>\n",
       "      <td>2847.699</td>\n",
       "      <td>1770.5</td>\n",
       "      <td>331.722</td>\n",
       "    </tr>\n",
       "  </tbody>\n",
       "</table>\n",
       "</div>"
      ],
      "text/plain": [
       "             realgdp  realcons  realinv\n",
       "1959-03-31  2710.349    1707.4  286.898\n",
       "1959-06-30  2778.801    1733.7  310.859\n",
       "1959-09-30  2775.488    1751.8  289.226\n",
       "1959-12-31  2785.204    1753.7  299.356\n",
       "1960-03-31  2847.699    1770.5  331.722"
      ]
     },
     "execution_count": 9,
     "metadata": {},
     "output_type": "execute_result"
    }
   ],
   "source": [
    "target_data.head()"
   ]
  },
  {
   "cell_type": "markdown",
   "metadata": {},
   "source": [
    "## VARモデルの構築"
   ]
  },
  {
   "cell_type": "code",
   "execution_count": 5,
   "metadata": {},
   "outputs": [
    {
     "data": {
      "text/plain": [
       "  Summary of Regression Results   \n",
       "==================================\n",
       "Model:                         VAR\n",
       "Method:                        OLS\n",
       "Date:           Fri, 16, Oct, 2020\n",
       "Time:                     20:26:39\n",
       "--------------------------------------------------------------------\n",
       "No. of Equations:         3.00000    BIC:                    20.6099\n",
       "Nobs:                     199.000    HQIC:                   20.3144\n",
       "Log likelihood:          -2818.40    FPE:                5.43599e+08\n",
       "AIC:                      20.1135    Det(Omega_mle):     4.69244e+08\n",
       "--------------------------------------------------------------------\n",
       "Results for equation realgdp\n",
       "==============================================================================\n",
       "                 coefficient       std. error           t-stat            prob\n",
       "------------------------------------------------------------------------------\n",
       "const              12.638159         7.157543            1.766           0.077\n",
       "L1.realgdp         -0.393119         0.151899           -2.588           0.010\n",
       "L1.realcons         1.173272         0.192878            6.083           0.000\n",
       "L1.realinv          0.414727         0.172803            2.400           0.016\n",
       "L2.realgdp         -0.070561         0.155043           -0.455           0.649\n",
       "L2.realcons         0.462542         0.218570            2.116           0.034\n",
       "L2.realinv         -0.009200         0.182857           -0.050           0.960\n",
       "L3.realgdp         -0.235993         0.158747           -1.487           0.137\n",
       "L3.realcons         0.279234         0.217849            1.282           0.200\n",
       "L3.realinv          0.064579         0.187320            0.345           0.730\n",
       "==============================================================================\n",
       "\n",
       "Results for equation realcons\n",
       "==============================================================================\n",
       "                 coefficient       std. error           t-stat            prob\n",
       "------------------------------------------------------------------------------\n",
       "const              18.594661         4.137844            4.494           0.000\n",
       "L1.realgdp         -0.231070         0.087814           -2.631           0.009\n",
       "L1.realcons         0.431913         0.111505            3.874           0.000\n",
       "L1.realinv          0.232178         0.099899            2.324           0.020\n",
       "L2.realgdp         -0.201874         0.089632           -2.252           0.024\n",
       "L2.realcons         0.376724         0.126357            2.981           0.003\n",
       "L2.realinv          0.123208         0.105711            1.166           0.244\n",
       "L3.realgdp         -0.187880         0.091773           -2.047           0.041\n",
       "L3.realcons         0.478995         0.125940            3.803           0.000\n",
       "L3.realinv          0.070105         0.108292            0.647           0.517\n",
       "==============================================================================\n",
       "\n",
       "Results for equation realinv\n",
       "==============================================================================\n",
       "                 coefficient       std. error           t-stat            prob\n",
       "------------------------------------------------------------------------------\n",
       "const             -10.248386         5.426338           -1.889           0.059\n",
       "L1.realgdp         -0.155360         0.115159           -1.349           0.177\n",
       "L1.realcons         0.843744         0.146226            5.770           0.000\n",
       "L1.realinv          0.339726         0.131007            2.593           0.010\n",
       "L2.realgdp         -0.009690         0.117543           -0.082           0.934\n",
       "L2.realcons         0.117165         0.165704            0.707           0.480\n",
       "L2.realinv          0.023162         0.138629            0.167           0.867\n",
       "L3.realgdp         -0.217014         0.120351           -1.803           0.071\n",
       "L3.realcons        -0.097453         0.165157           -0.590           0.555\n",
       "L3.realinv          0.200554         0.142013            1.412           0.158\n",
       "==============================================================================\n",
       "\n",
       "Correlation matrix of residuals\n",
       "             realgdp  realcons   realinv\n",
       "realgdp     1.000000  0.501169  0.698367\n",
       "realcons    0.501169  1.000000 -0.045726\n",
       "realinv     0.698367 -0.045726  1.000000\n",
       "\n"
      ]
     },
     "execution_count": 5,
     "metadata": {},
     "output_type": "execute_result"
    }
   ],
   "source": [
    "learning_data = target_data.diff().dropna()\n",
    "\n",
    "model = VAR(learning_data)\n",
    "model_result = model.fit(maxlags=15, ic='aic')\n",
    "model_result.summary()"
   ]
  },
  {
   "cell_type": "markdown",
   "metadata": {},
   "source": [
    "## FVED"
   ]
  },
  {
   "cell_type": "code",
   "execution_count": 6,
   "metadata": {},
   "outputs": [],
   "source": [
    "fevd_result = model_result.fevd(20)"
   ]
  },
  {
   "cell_type": "code",
   "execution_count": 7,
   "metadata": {},
   "outputs": [
    {
     "name": "stdout",
     "output_type": "stream",
     "text": [
      "FEVD for realgdp\n",
      "       realgdp  realcons   realinv\n",
      "0     1.000000  0.000000  0.000000\n",
      "1     0.819493  0.156609  0.023898\n",
      "2     0.745594  0.225750  0.028656\n",
      "3     0.692096  0.263537  0.044367\n",
      "4     0.663116  0.281238  0.055646\n",
      "5     0.646708  0.288258  0.065034\n",
      "6     0.636706  0.290706  0.072588\n",
      "7     0.629012  0.292737  0.078252\n",
      "8     0.623998  0.293654  0.082349\n",
      "9     0.620499  0.294067  0.085434\n",
      "10    0.618095  0.294313  0.087592\n",
      "11    0.616529  0.294352  0.089119\n",
      "12    0.615498  0.294322  0.090180\n",
      "13    0.614810  0.294291  0.090899\n",
      "14    0.614367  0.294248  0.091386\n",
      "15    0.614078  0.294212  0.091711\n",
      "16    0.613890  0.294185  0.091925\n",
      "17    0.613770  0.294164  0.092066\n",
      "18    0.613694  0.294149  0.092157\n",
      "19    0.613646  0.294139  0.092216\n",
      "\n",
      "FEVD for realcons\n",
      "       realgdp  realcons   realinv\n",
      "0     0.251170  0.748830  0.000000\n",
      "1     0.232511  0.741561  0.025928\n",
      "2     0.210884  0.746999  0.042117\n",
      "3     0.178346  0.769495  0.052159\n",
      "4     0.173118  0.758167  0.068715\n",
      "5     0.167338  0.751708  0.080954\n",
      "6     0.162654  0.748500  0.088845\n",
      "7     0.160601  0.742854  0.096545\n",
      "8     0.158781  0.739429  0.101790\n",
      "9     0.157502  0.737080  0.105418\n",
      "10    0.156792  0.734912  0.108296\n",
      "11    0.156243  0.733537  0.110221\n",
      "12    0.155889  0.732575  0.111535\n",
      "13    0.155672  0.731848  0.112480\n",
      "14    0.155519  0.731383  0.113098\n",
      "15    0.155422  0.731067  0.113511\n",
      "16    0.155361  0.730848  0.113791\n",
      "17    0.155320  0.730708  0.113972\n",
      "18    0.155294  0.730616  0.114090\n",
      "19    0.155278  0.730555  0.114166\n",
      "\n",
      "FEVD for realinv\n",
      "       realgdp  realcons   realinv\n",
      "0     0.487716  0.209125  0.303159\n",
      "1     0.464139  0.280072  0.255789\n",
      "2     0.443417  0.305868  0.250716\n",
      "3     0.430504  0.291726  0.277770\n",
      "4     0.412618  0.308637  0.278745\n",
      "5     0.406525  0.308482  0.284994\n",
      "6     0.402832  0.305925  0.291244\n",
      "7     0.399435  0.307322  0.293243\n",
      "8     0.397886  0.306777  0.295337\n",
      "9     0.396811  0.306248  0.296941\n",
      "10    0.395949  0.306368  0.297683\n",
      "11    0.395510  0.306175  0.298314\n",
      "12    0.395222  0.306042  0.298736\n",
      "13    0.395020  0.306011  0.298969\n",
      "14    0.394908  0.305953  0.299139\n",
      "15    0.394835  0.305918  0.299247\n",
      "16    0.394788  0.305902  0.299310\n",
      "17    0.394761  0.305887  0.299353\n",
      "18    0.394743  0.305878  0.299379\n",
      "19    0.394732  0.305873  0.299395\n",
      "\n",
      "\n"
     ]
    }
   ],
   "source": [
    "fevd_result.summary()"
   ]
  },
  {
   "cell_type": "code",
   "execution_count": 8,
   "metadata": {},
   "outputs": [
    {
     "data": {
      "image/png": "[encoded data removed]",
      "text/plain": [
       "<Figure size 720x720 with 3 Axes>"
      ]
     },
     "execution_count": 8,
     "metadata": {},
     "output_type": "execute_result"
    },
    {
     "data": {
      "image/png": "[encoded data removed]",
      "text/plain": [
       "<Figure size 720x720 with 3 Axes>"
      ]
     },
     "metadata": {
      "needs_background": "light"
     },
     "output_type": "display_data"
    }
   ],
   "source": [
    "fevd_result.plot()"
   ]
  },
  {
   "cell_type": "code",
   "execution_count": null,
   "metadata": {},
   "outputs": [],
   "source": []
  }
 ],
 "metadata": {
  "kernelspec": {
   "display_name": "Python 3",
   "language": "python",
   "name": "python3"
  },
  "language_info": {
   "codemirror_mode": {
    "name": "ipython",
    "version": 3
   },
   "file_extension": ".py",
   "mimetype": "text/x-python",
   "name": "python",
   "nbconvert_exporter": "python",
   "pygments_lexer": "ipython3",
   "version": "3.8.5"
  }
 },
 "nbformat": 4,
 "nbformat_minor": 4
}
